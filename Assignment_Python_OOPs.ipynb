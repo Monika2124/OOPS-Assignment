{
  "nbformat": 4,
  "nbformat_minor": 0,
  "metadata": {
    "colab": {
      "provenance": []
    },
    "kernelspec": {
      "name": "python3",
      "display_name": "Python 3"
    },
    "language_info": {
      "name": "python"
    }
  },
  "cells": [
    {
      "cell_type": "markdown",
      "source": [
        "#Python OOPs Questions - Theory"
      ],
      "metadata": {
        "id": "nDSIXxdcf3CA"
      }
    },
    {
      "cell_type": "markdown",
      "source": [
        "#Q1- What is Object-Oriented Programming (OOP) ?\n",
        "-\n",
        "  -OOP is a programming paradigm based on objects that contain data (attributes) and functions (methods).\n",
        "\n"
      ],
      "metadata": {
        "id": "oGprtSDAf2_g"
      }
    },
    {
      "cell_type": "code",
      "source": [
        "class Dog:\n",
        "    def bark(self):\n",
        "        print(\"Woof!\")\n",
        "\n",
        "my_dog = Dog()\n",
        "my_dog.bark()\n"
      ],
      "metadata": {
        "colab": {
          "base_uri": "https://localhost:8080/"
        },
        "id": "j2z7ELl-gIKP",
        "outputId": "6246c70d-b9b8-4e62-c412-026ce98a1949"
      },
      "execution_count": 1,
      "outputs": [
        {
          "output_type": "stream",
          "name": "stdout",
          "text": [
            "Woof!\n"
          ]
        }
      ]
    },
    {
      "cell_type": "markdown",
      "source": [
        "#Q2- What is a class in OOP?\n",
        "-\n",
        "In Object-Oriented Programming (OOP), a class is a blueprint or template that defines the structure and behavior of objects. It acts as a container for data (attributes or variables) and actions (methods or functions) that are common to all instances of a specific type of object.\n",
        "\n"
      ],
      "metadata": {
        "id": "JfHmsj3Uf29R"
      }
    },
    {
      "cell_type": "markdown",
      "source": [
        "#Q3- What is an object in OOP ?\n",
        "-\n",
        "   -An object is a fundamental building block, acting as an instance of a class. It encapsulates both data (attributes) and the functions (methods) that operate on that data. Objects represent real-world entities or concepts, and they interact with each other by sending and receiving messages.\n",
        "   \n",
        "   :p = Person()  # Object of the Person class\n"
      ],
      "metadata": {
        "id": "9PSQ-JTPf26y"
      }
    },
    {
      "cell_type": "markdown",
      "source": [
        "#Q4 -What is the difference between abstraction and encapsulation?\n",
        "-\n",
        "   -Abstraction focuses on hiding complex implementation details and showing only the essential features to the user, while encapsulation bundles data and methods into a single unit (like a class) and controls their access, according to Shiksha. In essence, abstraction is about what something does, and encapsulation is about how it's done and how it's accessed.\n",
        "\n",
        "   -Abstraction hides complexity and Encapsulation hides data via access control.\n",
        "   "
      ],
      "metadata": {
        "id": "X8MTCyO1f24o"
      }
    },
    {
      "cell_type": "code",
      "source": [
        "class BankAccount:\n",
        "    def __init__(self, balance):\n",
        "        self.__balance = balance  # encapsulated\n",
        "\n",
        "    def get_balance(self):       # abstraction\n",
        "        return self.__balance"
      ],
      "metadata": {
        "id": "CzY8Vd2WhKZH"
      },
      "execution_count": 3,
      "outputs": []
    },
    {
      "cell_type": "markdown",
      "source": [
        "#Q5- What are dunder methods in Python ?\n",
        "-\n",
        "   -Dunder (double underscore) methods like __init__, __str__, etc., are special methods that Python calls automatically.\n",
        "\n"
      ],
      "metadata": {
        "id": "u37gS9MXf22Y"
      }
    },
    {
      "cell_type": "code",
      "source": [
        "class Book:\n",
        "    def __str__(self):\n",
        "        return \"Book object\""
      ],
      "metadata": {
        "id": "j2i5Y1sEhZyG"
      },
      "execution_count": 5,
      "outputs": []
    },
    {
      "cell_type": "markdown",
      "source": [
        "#Q6 -Explain the concept of inheritance in OOP ?\n",
        "-\n",
        "   -n Object-Oriented Programming (OOP), inheritance is a mechanism that allows a class (the \"child\" or \"derived\" class) to inherit properties and methods from another class (the \"parent\" or \"base\" class). This promotes code reusability, reduces redundancy, and facilitates the creation of hierarchical structures within your code."
      ],
      "metadata": {
        "id": "o2kvwYEmf20I"
      }
    },
    {
      "cell_type": "markdown",
      "source": [
        "#Q7 # What is polymorphism in OOP ?\n",
        "-  \n",
        "   -Polymorphism allows different classes to use the same method name but with different behaviors.\n",
        "\n",
        "class Cat:\n",
        "    def speak(self):\n",
        "        print(\"Meow\")\n",
        "\n",
        "class Dog:\n",
        "    def speak(self):\n",
        "        print(\"Woof\")\n",
        "\n",
        "for pet in [Cat(), Dog()]:\n",
        "    pet.speak()"
      ],
      "metadata": {
        "id": "dvZGnwROf2xn"
      }
    },
    {
      "cell_type": "markdown",
      "source": [
        "#Q8 - How is encapsulation achieved in Python ?\n",
        "-  \n",
        "   -Encapsulation in Python is achieved by restricting access to attributes and methods, effectively hiding the internal state of an object and preventing unintended external modifications. It is implemented using access modifiers, primarily through naming conventions with underscores.\n",
        "Public Members: Accessible from anywhere.\n",
        "Protected Members: Intended for use within the class and its subclasses (indicated by a single underscore prefix, e.g., _attribute).\n",
        "Private Members: Intended for use only within the class (indicated by a double underscore prefix, e.g., __attribute). Python uses name mangling to make these attributes harder to access directly from outside the class.\n"
      ],
      "metadata": {
        "id": "ORNsQQZEf2vn"
      }
    },
    {
      "cell_type": "markdown",
      "source": [
        "#Q9  What is a constructor in Python ?\n",
        "-  \n",
        "   -__init__ is the constructor method that initializes object attributes.\n",
        "\n",
        "class Student:\n",
        "    def __init__(self, name):\n",
        "        self.name = name\n"
      ],
      "metadata": {
        "id": "5ZNeW0V2f2tI"
      }
    },
    {
      "cell_type": "markdown",
      "source": [
        "#Q10-  What are class and static methods in Python ?\n",
        "-\n",
        "   - @classmethod receives the class (cls) as argument.\n",
        "\n",
        "  -@staticmethod receives no automatic argument.\n"
      ],
      "metadata": {
        "id": "bpnYFu7qf2q3"
      }
    },
    {
      "cell_type": "code",
      "source": [
        "class Math:\n",
        "    @classmethod\n",
        "    def identity(cls):\n",
        "        return cls\n",
        "\n",
        "    @staticmethod\n",
        "    def add(a, b):\n",
        "        return a + b"
      ],
      "metadata": {
        "id": "2_d-tnrVupDk"
      },
      "execution_count": null,
      "outputs": []
    },
    {
      "cell_type": "markdown",
      "source": [
        "#Q11 - What is method overloading in Python ?\n",
        "-\n",
        "   -Python does not support true method overloading, but you can simulate it using default or variable arguments.\n",
        "\n",
        "\n"
      ],
      "metadata": {
        "id": "AkekYpDMf2oP"
      }
    },
    {
      "cell_type": "code",
      "source": [
        "class Demo:\n",
        "    def show(self, x=None):\n",
        "        if x:\n",
        "            print(x)\n",
        "        else:\n",
        "            print(\"No arg\")"
      ],
      "metadata": {
        "id": "1dsSExgiuyf7"
      },
      "execution_count": null,
      "outputs": []
    },
    {
      "cell_type": "markdown",
      "source": [
        "#Q12 - What is method overriding in OOP?\n",
        "-  \n",
        "   -In Object-Oriented Programming (OOP), method overriding allows a subclass to provide a specific implementation of a method that is already defined in its parent class (superclass). This enables the subclass to modify or extend the method's behavior, ensuring the correct method is called based on the object's type, a key aspect of polymorphism.\n",
        "\n"
      ],
      "metadata": {
        "id": "SGHDw2Hhf2l_"
      }
    },
    {
      "cell_type": "markdown",
      "source": [
        "#Q13 - What is a property decorator in Python ?\n",
        "-  \n",
        "  -@property turns a method into a read-only attribute.\n",
        "\n"
      ],
      "metadata": {
        "id": "gseseQEyf2jv"
      }
    },
    {
      "cell_type": "code",
      "source": [
        "class Circle:\n",
        "    def __init__(self, r):\n",
        "        self.r = r\n",
        "\n",
        "    @property\n",
        "    def area(self):\n",
        "        return 3.14 * self.r * self.r\n"
      ],
      "metadata": {
        "id": "EXW1_Sxw_Lim"
      },
      "execution_count": null,
      "outputs": []
    },
    {
      "cell_type": "markdown",
      "source": [
        "#Q14 -Why is polymorphism important in OOP ?\n",
        "-\n",
        "   -Polymorphism is crucial in OOP because it enables flexibility and code reusability. It allows objects of different classes to be treated as if they were of a common type, promoting a more streamlined and organized codebase.\n",
        "\n"
      ],
      "metadata": {
        "id": "xvOnqYZbf2ha"
      }
    },
    {
      "cell_type": "markdown",
      "source": [
        "#Q15 -What is an abstract class in Python ?\n",
        "-\n",
        "    -An abstract class in Python serves as a blueprint for other classes, defining a common interface while allowing subclasses to provide specific implementations. It cannot be instantiated directly and often includes abstract methods, which are declared but not implemented in the abstract class. Subclasses are required to override these abstract methods to provide concrete behavior. The abc module in Python provides the necessary tools for creating abstract classes\n"
      ],
      "metadata": {
        "id": "BH4zuHfqf2fY"
      }
    },
    {
      "cell_type": "markdown",
      "source": [
        "#Q16- What are the advantages of OOP?\n",
        "-\n",
        "   -Modularity\n",
        "\n",
        "Reusability\n",
        "\n",
        "Scalability\n",
        "\n",
        "Maintainability\n",
        "\n",
        "Example: Use of inheritance and polymorphism to manage different types of employees in a payroll system.\n"
      ],
      "metadata": {
        "id": "SPOenLysf2c3"
      }
    },
    {
      "cell_type": "markdown",
      "source": [
        "#Q17 -What is the difference between a class variable and an instance variable?\n",
        "-\n",
        "   -Class Variables (Static Variables):\n",
        "    Exist at the class level, not tied to a specific object.\n",
        "    Shared by all instances of the class.\n",
        "    Only one copy of the variable exists for the entire class.\n",
        "    Accessed using the class name (e.g., ClassName.variableName).\n",
        "   -Instance Variables (Non-Static Variables):\n",
        "    Exist at the object level.\n",
        "    Each instance of the class has its own copy of the instance variable.\n",
        "    Accessed using object references (e.g., objectName.variableName"
      ],
      "metadata": {
        "id": "2c_NsJrZf2aY"
      }
    },
    {
      "cell_type": "code",
      "source": [
        "class Example:\n",
        "    class_var = 0\n",
        "\n",
        "    def __init__(self):\n",
        "        self.instance_var = 1"
      ],
      "metadata": {
        "id": "DVQq37dn__kr"
      },
      "execution_count": null,
      "outputs": []
    },
    {
      "cell_type": "markdown",
      "source": [
        "#Q18 -What is multiple inheritance in Python ?\n",
        "-  \n",
        "  -Multiple inheritance in Python is a feature that allows a class to inherit attributes and methods from more than one parent class. This means a subclass can combine and utilize functionalities from several independent classes.\n",
        "\n"
      ],
      "metadata": {
        "id": "k6o6Ee0rf2Xy"
      }
    },
    {
      "cell_type": "markdown",
      "source": [
        "#Q19 -Explain the purpose of ‘’__str__’ and ‘__repr__’ ‘ methods in Python ?\n",
        "-  \n",
        "   -In Python, __str__ and __repr__ are special methods used to define how objects are represented as strings. They are crucial for debugging, logging, and providing user-friendly output.\n",
        "    -  __str__:\n",
        "    This method returns a human-readable, informal string representation of an object. It's intended for end-users and is called by the str() function and the print() function. If __str__ is not defined, Python falls back to using __repr__.\n",
        "  - __repr__:\n",
        "     This method returns an unambiguous, formal string representation of an object. It's primarily for developers and debugging purposes. Ideally, the string returned by __repr__ should be a valid Python expression that can recreate the object. It is called by the repr() function and is also used in the interactive interpreter\n",
        "\n"
      ],
      "metadata": {
        "id": "qvrzAWsUf2TK"
      }
    },
    {
      "cell_type": "code",
      "source": [
        "class A:\n",
        "    def method(self): print(\"A\")\n",
        "\n",
        "class B:\n",
        "    def method(self): print(\"B\")\n",
        "\n",
        "class C(A, B):\n",
        "    pass\n",
        "\n",
        "C().method()  # Follows MRO (method resolution order)"
      ],
      "metadata": {
        "id": "Y1JhecOdAhGS"
      },
      "execution_count": null,
      "outputs": []
    },
    {
      "cell_type": "markdown",
      "source": [
        "#Q20 - What is the significance of the ‘super()’ function in Python ?\n",
        "-   \n",
        "  -The super() function in Python is used to call methods from a parent class in a subclass. It provides a way to access and override inherited methods, promoting code reusability and maintainability. When a subclass inherits from a parent class, it can extend or modify the parent class's behavior. The super() function allows the subclass to invoke the parent class's methods, ensuring that the parent class's logic is executed before or after the subclass's logic. This is particularly useful when initializing objects or when needing to extend the functionality of a parent class without completely replacing it.\n",
        "\n"
      ],
      "metadata": {
        "id": "W_PzO4s2f2Qn"
      }
    },
    {
      "cell_type": "markdown",
      "source": [
        "#Q21 - What is the significance of the __del__ method in Python ?\n",
        "-\n",
        "  -The __del__ method in Python, also known as a destructor, is called when an object is about to be destroyed. It provides an opportunity to perform cleanup actions, such as releasing external resources, before the object's memory is reclaimed. However, relying on __del__ for resource management is generally discouraged due to its unpredictable timing and potential issues.\n",
        "   -The __del__ method is invoked by Python's garbage collector when all references to an object have been deleted, and the object is no longer accessible. It's important to note that the garbage collector's behavior is not deterministic, and __del__ might not be called immediately when an object is no longer needed or even at all before the interpreter exits\n"
      ],
      "metadata": {
        "id": "zghVdUzhf2OR"
      }
    },
    {
      "cell_type": "markdown",
      "source": [
        "#Q22 -What is the difference between @staticmethod and @classmethod in Python ?\n",
        "-\n",
        "  -@staticmethod:\n",
        "This decorator creates a function that is bound to the class but does not receive the class or instance as an implicit first argument. It's essentially a regular function defined within the class's scope for organizational purposes. It cannot access or modify the class or instance state.\n",
        " -@classmethod:\n",
        "This decorator defines a method that receives the class itself as the first argument, conventionally named cls. It can access and modify class-level attributes but cannot directly modify instance-specific attributes. It is often used for factory methods or when needing to work with class-level data.\n"
      ],
      "metadata": {
        "id": "QlbwAdswf2Li"
      }
    },
    {
      "cell_type": "markdown",
      "source": [
        "#Q-23 How does polymorphism work in Python with inheritance ?\n",
        "-  \n",
        "   -Polymorphism, meaning \"many forms,\" enables objects of different classes to respond to the same method call in their own specific ways. When combined with inheritance in Python, polymorphism allows a child class to redefine a method inherited from its parent class. This is known as method overriding.\n",
        "    When a method is called on an object, Python checks the object's class for a matching method. If it's not found, Python looks in the parent class, and so on up the inheritance hierarchy. However, if a child class has overridden the method, Python will execute the child class's version instead, achieving polymorphic behavior.\n"
      ],
      "metadata": {
        "id": "YuVUPwQKf2G_"
      }
    },
    {
      "cell_type": "markdown",
      "source": [
        "#Q-24 What is method chaining in Python OOP ?\n",
        "-\n",
        "   -Method chaining in Python is a programming technique used in object-oriented programming where multiple methods are called sequentially on the same object in a single statement. This is achieved by having each method return the object instance (self) after performing its operation. This allows for a more concise and readable way to perform a series of actions on an object.\n"
      ],
      "metadata": {
        "id": "5jJ28E8qf2Ei"
      }
    },
    {
      "cell_type": "markdown",
      "source": [
        "#Q25 - What is the purpose of the __call__ method in Python?\n",
        "-\n",
        "  -Allows an object to be called like a function.\n",
        "\n",
        "\n",
        "\n",
        "\n",
        "\n",
        "\n",
        "\n",
        "\n"
      ],
      "metadata": {
        "id": "9lq_9KiQf2CP"
      }
    },
    {
      "cell_type": "code",
      "source": [
        "class Greeter:\n",
        "    def __call__(self, name):\n",
        "        print(f\"Hello, {name}\")\n",
        "\n",
        "g = Greeter()\n",
        "g(\"Alice\")  # behaves like a function\n",
        "Let me know if you want a printable summary or quiz for these!\n",
        "\n",
        "\n"
      ],
      "metadata": {
        "id": "mqo99sJXCJCO"
      },
      "execution_count": null,
      "outputs": []
    },
    {
      "cell_type": "markdown",
      "source": [
        "# Practical Questions"
      ],
      "metadata": {
        "id": "YpfXAthyCOJm"
      }
    },
    {
      "cell_type": "code",
      "source": [
        "#Q1- Create a parent class Animal with a method speak() that prints a generic message. Create a child class Dog that overrides the speak() method to print \"Bark!\".\n",
        "\n",
        "class Animal:\n",
        "    def speak(self):\n",
        "        print(\"Animal speaks\")\n",
        "\n",
        "class Dog(Animal):\n",
        "    def speak(self):\n",
        "        print(\"Bark!\")\n",
        "\n",
        "a = Animal()\n",
        "a.speak()\n",
        "d = Dog()\n",
        "d.speak()"
      ],
      "metadata": {
        "colab": {
          "base_uri": "https://localhost:8080/"
        },
        "id": "I2ACmQM9CeDX",
        "outputId": "83f08356-5ca2-494b-aff2-e5ca871fbde4"
      },
      "execution_count": 32,
      "outputs": [
        {
          "output_type": "stream",
          "name": "stdout",
          "text": [
            "Animal speaks\n",
            "Bark!\n"
          ]
        }
      ]
    },
    {
      "cell_type": "code",
      "source": [
        "#Q 2. Write a program to create an abstract class Shape with a method area(). Derive classes Circle and Rectangle from it and implement the area() method in both.\n",
        "\n",
        "from abc import ABC, abstractmethod\n",
        "import math\n",
        "\n",
        "# Abstract base class\n",
        "class Shape(ABC):\n",
        "    @abstractmethod\n",
        "    def area(self):\n",
        "        pass\n",
        "\n",
        "# Derived class: Circle\n",
        "class Circle(Shape):\n",
        "    def __init__(self, radius):\n",
        "        self.radius = radius\n",
        "\n",
        "    def area(self):\n",
        "        return math.pi * self.radius ** 2\n",
        "\n",
        "# Derived class: Rectangle\n",
        "class Rectangle(Shape):\n",
        "    def __init__(self, width, height):\n",
        "        self.width = width\n",
        "        self.height = height\n",
        "\n",
        "    def area(self):\n",
        "        return self.width * self.height\n",
        "\n",
        "c = Circle(5)\n",
        "r = Rectangle(4, 6)\n",
        "\n",
        "print(\"Circle area:\", c.area())\n",
        "print(\"Rectangle area:\", r.area())\n",
        "\n"
      ],
      "metadata": {
        "colab": {
          "base_uri": "https://localhost:8080/"
        },
        "id": "tuRbUloxCeA_",
        "outputId": "113321f7-8af6-49ec-ada0-46519636df0c"
      },
      "execution_count": 8,
      "outputs": [
        {
          "output_type": "stream",
          "name": "stdout",
          "text": [
            "Circle area: 78.53981633974483\n",
            "Rectangle area: 24\n"
          ]
        }
      ]
    },
    {
      "cell_type": "code",
      "source": [
        "#Q3. Implement a multi-level inheritance scenario where a class Vehicle has an attribute type. Derive a class Car and further derive a class ElectricCar that adds a battery attribute.\n",
        "\n",
        "# Base class\n",
        "class Vehicle:\n",
        "    def __init__(self, vehicle_type):\n",
        "        self.type = vehicle_type\n",
        "\n",
        "# Derived class\n",
        "class Car(Vehicle):\n",
        "    def __init__(self, vehicle_type, brand):\n",
        "        super().__init__(vehicle_type)\n",
        "        self.brand = brand\n",
        "\n",
        "# Further derived class\n",
        "class ElectricCar(Car):\n",
        "    def __init__(self, vehicle_type, brand, battery_capacity):\n",
        "        super().__init__(vehicle_type, brand)\n",
        "        self.battery = battery_capacity\n",
        "\n",
        "e_car = ElectricCar(\"4-wheeler\", \"Tesla\", \"100 kWh\")\n",
        "\n",
        "print(\"Type:\", e_car.type)\n",
        "print(\"Brand:\", e_car.brand)\n",
        "print(\"Battery:\", e_car.battery)\n",
        "\n"
      ],
      "metadata": {
        "colab": {
          "base_uri": "https://localhost:8080/"
        },
        "id": "rMwXly6eCd-V",
        "outputId": "9713ac39-9a20-4a8f-f729-67c6de398cef"
      },
      "execution_count": 11,
      "outputs": [
        {
          "output_type": "stream",
          "name": "stdout",
          "text": [
            "Type: 4-wheeler\n",
            "Brand: Tesla\n",
            "Battery: 100 kWh\n"
          ]
        }
      ]
    },
    {
      "cell_type": "code",
      "source": [
        "#Q4 - Demonstrate polymorphism by creating a base class Bird with a method fly(). Create two derived classes Sparrow and Penguin that override the fly() method.\n",
        "\n",
        "# Base class\n",
        "class Bird:\n",
        "    def fly(self):\n",
        "        print(\"Some birds can fly.\")\n",
        "\n",
        "# Derived class 1\n",
        "class Sparrow(Bird):\n",
        "    def fly(self):\n",
        "        print(\"Sparrow flies high in the sky.\")\n",
        "\n",
        "# Derived class 2\n",
        "class Penguin(Bird):\n",
        "    def fly(self):\n",
        "        print(\"Penguins cannot fly, they swim.\")\n",
        "\n",
        "# Polymorphism in action\n",
        "birds = [Sparrow(), Penguin()]\n",
        "\n",
        "for bird in birds:\n",
        "    bird.fly()\n"
      ],
      "metadata": {
        "colab": {
          "base_uri": "https://localhost:8080/"
        },
        "id": "_n2FMNtZCd7b",
        "outputId": "ee39f161-9245-4216-866a-6cf692392dd1"
      },
      "execution_count": 12,
      "outputs": [
        {
          "output_type": "stream",
          "name": "stdout",
          "text": [
            "Sparrow flies high in the sky.\n",
            "Penguins cannot fly, they swim.\n"
          ]
        }
      ]
    },
    {
      "cell_type": "code",
      "source": [
        "#Q5 - Write a program to demonstrate encapsulation by creating a class BankAccount with private attributes balance and methods to deposit, withdraw, and check balance\n",
        "\n",
        "class BankAccount:\n",
        "    def __init__(self, initial_balance=0):\n",
        "        self.__balance = initial_balance  # private attribute\n",
        "\n",
        "    def deposit(self, amount):\n",
        "        if amount > 0:\n",
        "            self.__balance += amount\n",
        "            print(f\"Deposited: {amount}\")\n",
        "        else:\n",
        "            print(\"Invalid deposit amount\")\n",
        "\n",
        "    def withdraw(self, amount):\n",
        "        if 0 < amount <= self.__balance:\n",
        "            self.__balance -= amount\n",
        "            print(f\"Withdrew: {amount}\")\n",
        "        else:\n",
        "            print(\"Insufficient balance or invalid amount\")\n",
        "\n",
        "    def get_balance(self):\n",
        "        return self.__balance  # controlled access to private data\n",
        "\n",
        "account = BankAccount(1000)\n",
        "account.deposit(500)\n",
        "account.withdraw(300)\n",
        "print(\"Current balance:\", account.get_balance())\n"
      ],
      "metadata": {
        "colab": {
          "base_uri": "https://localhost:8080/"
        },
        "id": "20U6Flh2Cd4v",
        "outputId": "ba13c01c-71c1-4bcb-d1d4-507c359959e7"
      },
      "execution_count": 13,
      "outputs": [
        {
          "output_type": "stream",
          "name": "stdout",
          "text": [
            "Deposited: 500\n",
            "Withdrew: 300\n",
            "Current balance: 1200\n"
          ]
        }
      ]
    },
    {
      "cell_type": "code",
      "source": [
        "#Q6. Demonstrate runtime polymorphism using a method play() in a base class Instrument. Derive classes Guitar and Piano that implement their own version of play().\n",
        "\n",
        "# Base class\n",
        "class Instrument:\n",
        "    def play(self):\n",
        "        print(\"Playing an instrument\")\n",
        "\n",
        "# Derived class 1\n",
        "class Guitar(Instrument):\n",
        "    def play(self):\n",
        "        print(\"Strumming the guitar\")\n",
        "\n",
        "# Derived class 2\n",
        "class Piano(Instrument):\n",
        "    def play(self):\n",
        "        print(\"Playing the piano\")\n",
        "\n",
        "# Runtime polymorphism in action\n",
        "instruments = [Guitar(), Piano()]\n",
        "\n",
        "for inst in instruments:\n",
        "    inst.play()\n",
        "\n"
      ],
      "metadata": {
        "colab": {
          "base_uri": "https://localhost:8080/"
        },
        "id": "jIfrjJ5TCd12",
        "outputId": "0a41ddd3-7c7c-4bf2-ae30-d38478b12bfd"
      },
      "execution_count": 14,
      "outputs": [
        {
          "output_type": "stream",
          "name": "stdout",
          "text": [
            "Strumming the guitar\n",
            "Playing the piano\n"
          ]
        }
      ]
    },
    {
      "cell_type": "code",
      "source": [
        "#Q7. Create a class MathOperations with a class method add_numbers() to add two numbers and a static method subtract_numbers() to subtract two numbers\n",
        "\n",
        "\n",
        "class MathOperations:\n",
        "    @classmethod\n",
        "    def add_numbers(cls, a, b):\n",
        "        return a + b\n",
        "\n",
        "    @staticmethod\n",
        "    def subtract_numbers(a, b):\n",
        "        return a - b\n",
        "\n",
        "print(\"Addition:\", MathOperations.add_numbers(10, 5))\n",
        "print(\"Subtraction:\", MathOperations.subtract_numbers(10, 5))\n"
      ],
      "metadata": {
        "colab": {
          "base_uri": "https://localhost:8080/"
        },
        "id": "XsHawVT3Cdyo",
        "outputId": "908affbd-8a39-4529-9931-9736a44de7c8"
      },
      "execution_count": 19,
      "outputs": [
        {
          "output_type": "stream",
          "name": "stdout",
          "text": [
            "Addition: 15\n",
            "Subtraction: 5\n"
          ]
        }
      ]
    },
    {
      "cell_type": "code",
      "source": [
        "#Q8. Implement a class Person with a class method to count the total number of persons created.\n",
        "\n",
        "class Person:\n",
        "    count = 0  # Class variable to track number of persons\n",
        "\n",
        "    def __init__(self, name):\n",
        "        self.name = name\n",
        "        Person.count += 1\n",
        "\n",
        "    @classmethod\n",
        "    def get_person_count(cls):\n",
        "        return cls.count\n",
        "\n",
        "# Example usage\n",
        "p1 = Person(\"Alice\")\n",
        "p2 = Person(\"Bob\")\n",
        "p3 = Person(\"Charlie\")\n",
        "\n",
        "print(\"Total persons created:\", Person.get_person_count())\n"
      ],
      "metadata": {
        "colab": {
          "base_uri": "https://localhost:8080/"
        },
        "id": "lNX_v3hDCdvn",
        "outputId": "4d8b1acb-5fa5-4de3-c356-cc13ef6575f2"
      },
      "execution_count": 21,
      "outputs": [
        {
          "output_type": "stream",
          "name": "stdout",
          "text": [
            "Total persons created: 3\n"
          ]
        }
      ]
    },
    {
      "cell_type": "code",
      "source": [
        "#Q9  Write a class Fraction with attributes numerator and denominator. Override the str method to display the fraction as \"numerator/denominator\".\n",
        "\n",
        "class Fraction:\n",
        "    def __init__(self, numerator, denominator):\n",
        "        self.numerator = numerator\n",
        "        self.denominator = denominator\n",
        "\n",
        "    def __str__(self):\n",
        "        return f\"{self.numerator}/{self.denominator}\"\n",
        "\n",
        "f = Fraction(3, 4)\n",
        "print(f)"
      ],
      "metadata": {
        "colab": {
          "base_uri": "https://localhost:8080/"
        },
        "id": "CNyVLSapCdqr",
        "outputId": "eb498f53-ccbb-4335-ee3c-a0b5c5e9992e"
      },
      "execution_count": 22,
      "outputs": [
        {
          "output_type": "stream",
          "name": "stdout",
          "text": [
            "3/4\n"
          ]
        }
      ]
    },
    {
      "cell_type": "code",
      "source": [
        "#Q10- Demonstrate operator overloading by creating a class Vector and overriding the add method to add two vectors\n",
        "\n",
        "class Vector:\n",
        "    def __init__(self, x, y):\n",
        "        self.x = x\n",
        "        self.y = y\n",
        "\n",
        "    # Overload the + operator\n",
        "    def __add__(self, other):\n",
        "        return Vector(self.x + other.x, self.y + other.y)\n",
        "\n",
        "    def __str__(self):\n",
        "        return f\"({self.x}, {self.y})\"\n",
        "\n",
        "# Example usage\n",
        "v1 = Vector(2, 3)\n",
        "v2 = Vector(4, 1)\n",
        "v3 = v1 + v2\n",
        "\n",
        "print(\"Resultant Vector:\", v3)\n",
        "\n",
        "\n",
        "\n",
        "\n",
        "\n",
        "\n",
        "\n",
        "\n"
      ],
      "metadata": {
        "colab": {
          "base_uri": "https://localhost:8080/"
        },
        "id": "vTW50rftCdob",
        "outputId": "c3307a33-1438-4d6b-a994-c9b75c958225"
      },
      "execution_count": 23,
      "outputs": [
        {
          "output_type": "stream",
          "name": "stdout",
          "text": [
            "Resultant Vector: (6, 4)\n"
          ]
        }
      ]
    },
    {
      "cell_type": "code",
      "source": [
        "#Q11 -  Create a class Person with attributes name and age. Add a method greet() that prints \"Hello, my name is{name} and I am {age} years old.\"\n",
        "\n",
        "class Person:\n",
        "    def __init__(self, name, age):\n",
        "        self.name = name\n",
        "        self.age = age\n",
        "\n",
        "    def greet(self):\n",
        "        print(f\"Hello, my name is {self.name} and I am {self.age} years old.\")\n",
        "\n",
        "# Example usage\n",
        "p = Person(\"Monika\", 35)\n",
        "p.greet()  # Output: Hello, my name is Alice and I am 30 years old."
      ],
      "metadata": {
        "colab": {
          "base_uri": "https://localhost:8080/"
        },
        "id": "o6j3XjMICdlt",
        "outputId": "1a53fc44-76cd-45ca-c05b-202cb72c37bb"
      },
      "execution_count": 25,
      "outputs": [
        {
          "output_type": "stream",
          "name": "stdout",
          "text": [
            "Hello, my name is Monika and I am 35 years old.\n"
          ]
        }
      ]
    },
    {
      "cell_type": "code",
      "source": [
        "#Q12. Implement a class Student with attributes name and grades. Create a method average_grade() to compute the average of the grades.\n",
        "\n",
        "class Student:\n",
        "    def __init__(self, name, grades):\n",
        "        self.name = name\n",
        "        self.grades = grades  # Expecting a list of numbers\n",
        "\n",
        "    def average_grade(self):\n",
        "        if not self.grades:\n",
        "            return 0  # Avoid division by zero\n",
        "        return sum(self.grades) / len(self.grades)\n",
        "\n",
        "student = Student(\"Bob\", [85, 90, 78, 92])\n",
        "print(f\"{student.name}'s average grade: {student.average_grade()}\")\n"
      ],
      "metadata": {
        "colab": {
          "base_uri": "https://localhost:8080/"
        },
        "id": "x_EhhZISCdeb",
        "outputId": "cc2eadab-393e-451f-da89-e82abe939a23"
      },
      "execution_count": 26,
      "outputs": [
        {
          "output_type": "stream",
          "name": "stdout",
          "text": [
            "Bob's average grade: 86.25\n"
          ]
        }
      ]
    },
    {
      "cell_type": "code",
      "source": [
        "#Q13 - Create a class Rectangle with methods set_dimensions() to set the dimensions and area() to calculate the area ?\n",
        "\n",
        "class Rectangle:\n",
        "    def __init__(self):\n",
        "        self.length = 0\n",
        "        self.width = 0\n",
        "\n",
        "    def set_dimensions(self, length, width):\n",
        "        self.length = length\n",
        "        self.width = width\n",
        "\n",
        "    def area(self):\n",
        "        return self.length * self.width\n",
        "\n",
        "rect = Rectangle()\n",
        "rect.set_dimensions(5, 3)\n",
        "print(\"Area of rectangle:\", rect.area())"
      ],
      "metadata": {
        "colab": {
          "base_uri": "https://localhost:8080/"
        },
        "id": "ldLmXxutCdZp",
        "outputId": "24dd91ea-4337-40a7-c29e-54080bd49f2f"
      },
      "execution_count": 28,
      "outputs": [
        {
          "output_type": "stream",
          "name": "stdout",
          "text": [
            "Area of rectangle: 15\n"
          ]
        }
      ]
    },
    {
      "cell_type": "code",
      "source": [
        "#Q14-  Create a class Employee with a method calculate_salary() that computes the salary based on hours worked and hourly rate. Create a derived class Manager that adds a bonus to the salary.\n",
        "\n",
        "\n",
        "class Employee:\n",
        "    def __init__(self, name, hours_worked, hourly_rate):\n",
        "        self.name = name\n",
        "        self.hours_worked = hours_worked\n",
        "        self.hourly_rate = hourly_rate\n",
        "\n",
        "    def calculate_salary(self):\n",
        "        return self.hours_worked * self.hourly_rate\n",
        "\n",
        "class Manager(Employee):\n",
        "    def __init__(self, name, hours_worked, hourly_rate, bonus):\n",
        "        super().__init__(name, hours_worked, hourly_rate)\n",
        "        self.bonus = bonus\n",
        "\n",
        "    def calculate_salary(self):\n",
        "        base_salary = super().calculate_salary()\n",
        "        return base_salary + self.bonus\n",
        "\n",
        "emp = Employee(\"John\", 40, 20)\n",
        "mgr = Manager(\"Alice\", 40, 20, 500)\n",
        "\n",
        "print(f\"{emp.name}'s salary: ${emp.calculate_salary()}\")   # Output: John's salary: $800\n",
        "print(f\"{mgr.name}'s salary: ${mgr.calculate_salary()}\")   # Output: Alice's salary: $1300\n"
      ],
      "metadata": {
        "colab": {
          "base_uri": "https://localhost:8080/"
        },
        "id": "9jEEaZMuCdXL",
        "outputId": "f8a24ab8-eec6-4f40-db48-49a0605cf354"
      },
      "execution_count": 29,
      "outputs": [
        {
          "output_type": "stream",
          "name": "stdout",
          "text": [
            "John's salary: $800\n",
            "Alice's salary: $1300\n"
          ]
        }
      ]
    },
    {
      "cell_type": "code",
      "source": [
        "#Q15 -Create a class Product with attributes name, price, and quantity. Implement a method total_price() that calculates the total price of the product\n",
        "\n",
        "class Product:\n",
        "    def __init__(self, name, price, quantity):\n",
        "        self.name = name\n",
        "        self.price = price\n",
        "        self.quantity = quantity\n",
        "\n",
        "    def total_price(self):\n",
        "        return self.price * self.quantity\n",
        "\n",
        "p = Product(\"Laptop\", 1000, 3)\n",
        "print(f\"Total price for {p.quantity} {p.name}(s): ${p.total_price()}\")"
      ],
      "metadata": {
        "colab": {
          "base_uri": "https://localhost:8080/"
        },
        "id": "ri-8DfHkCdUk",
        "outputId": "91ee6472-f53e-4a45-f40b-39f632436079"
      },
      "execution_count": 30,
      "outputs": [
        {
          "output_type": "stream",
          "name": "stdout",
          "text": [
            "Total price for 3 Laptop(s): $3000\n"
          ]
        }
      ]
    },
    {
      "cell_type": "code",
      "source": [
        "#Q16 - Create a class Animal with an abstract method sound(). Create two derived classes Cow and Sheep that implement the sound() method.\n",
        "\n",
        "\n",
        "from abc import ABC, abstractmethod\n",
        "\n",
        "# Abstract base class\n",
        "class Animal(ABC):\n",
        "    @abstractmethod\n",
        "    def sound(self):\n",
        "        pass\n",
        "\n",
        "# Derived class Cow\n",
        "class Cow(Animal):\n",
        "    def sound(self):\n",
        "        print(\"Moo\")\n",
        "\n",
        "# Derived class Sheep\n",
        "class Sheep(Animal):\n",
        "    def sound(self):\n",
        "        print(\"Baa\")\n",
        "\n",
        "cow = Cow()\n",
        "sheep = Sheep()\n",
        "\n",
        "cow.sound()\n",
        "sheep.sound()"
      ],
      "metadata": {
        "colab": {
          "base_uri": "https://localhost:8080/"
        },
        "id": "L0Nm24qACdSU",
        "outputId": "f8d47997-6c9c-4acd-820e-d06adb6f5684"
      },
      "execution_count": 31,
      "outputs": [
        {
          "output_type": "stream",
          "name": "stdout",
          "text": [
            "Moo\n",
            "Baa\n"
          ]
        }
      ]
    },
    {
      "cell_type": "code",
      "source": [
        "#Q17 -Create a class Book with attributes title, author, and year_published. Add a method get_book_info() that returns a formatted string with the book's details\n",
        "\n",
        "\n",
        "class Book:\n",
        "    def __init__(self, title, author, year_published):\n",
        "        self.title = title\n",
        "        self.author = author\n",
        "        self.year_published = year_published\n",
        "\n",
        "    def get_book_info(self):\n",
        "        return f\"'{self.title}' by {self.author}, published in {self.year_published}\"\n",
        "\n",
        "book = Book(\"1984\", \"George Orwell\", 1949)\n",
        "print(book.get_book_info())  # Output: '1984' by George Orwell, published in 1949"
      ],
      "metadata": {
        "colab": {
          "base_uri": "https://localhost:8080/"
        },
        "id": "esAyaNAMCdQK",
        "outputId": "63a94d77-d34b-4b7d-cb5b-393adb6a5a23"
      },
      "execution_count": 33,
      "outputs": [
        {
          "output_type": "stream",
          "name": "stdout",
          "text": [
            "'1984' by George Orwell, published in 1949\n"
          ]
        }
      ]
    },
    {
      "cell_type": "code",
      "source": [
        "#Q18  Create a class House with attributes address and price. Create a derived class Mansion that adds an attribute number_of_rooms.\n",
        "\n",
        "class House:\n",
        "    def __init__(self, address, price):\n",
        "        self.address = address\n",
        "        self.price = price\n",
        "\n",
        "class Mansion(House):\n",
        "    def __init__(self, address, price, number_of_rooms):\n",
        "        super().__init__(address, price)\n",
        "        self.number_of_rooms = number_of_rooms\n",
        "\n",
        "# Example usage\n",
        "house = House(\"123 Maple St\", 300000)\n",
        "mansion = Mansion(\"456 Oak Ave\", 1200000, 10)\n",
        "\n",
        "print(f\"House address: {house.address}, Price: ${house.price}\")\n",
        "print(f\"Mansion address: {mansion.address}, Price: ${mansion.price}, Rooms: {mansion.number_of_rooms}\")"
      ],
      "metadata": {
        "colab": {
          "base_uri": "https://localhost:8080/"
        },
        "id": "9zewWB41CdOB",
        "outputId": "97386faa-2613-40ab-91d2-e9a86f2775a5"
      },
      "execution_count": 34,
      "outputs": [
        {
          "output_type": "stream",
          "name": "stdout",
          "text": [
            "House address: 123 Maple St, Price: $300000\n",
            "Mansion address: 456 Oak Ave, Price: $1200000, Rooms: 10\n"
          ]
        }
      ]
    },
    {
      "cell_type": "code",
      "source": [],
      "metadata": {
        "id": "YV33VRmQCdLl"
      },
      "execution_count": null,
      "outputs": []
    },
    {
      "cell_type": "code",
      "source": [],
      "metadata": {
        "id": "Nb1jiIUfCdJT"
      },
      "execution_count": null,
      "outputs": []
    },
    {
      "cell_type": "code",
      "source": [],
      "metadata": {
        "id": "ILuBpZwDCdHG"
      },
      "execution_count": null,
      "outputs": []
    },
    {
      "cell_type": "code",
      "source": [],
      "metadata": {
        "id": "DwCOuTGmCdEn"
      },
      "execution_count": null,
      "outputs": []
    },
    {
      "cell_type": "code",
      "source": [],
      "metadata": {
        "id": "dvNGWrjjCdCS"
      },
      "execution_count": null,
      "outputs": []
    },
    {
      "cell_type": "code",
      "source": [],
      "metadata": {
        "id": "DF8jg0ePCc_t"
      },
      "execution_count": null,
      "outputs": []
    },
    {
      "cell_type": "code",
      "source": [],
      "metadata": {
        "id": "ftMjV1lCCc7j"
      },
      "execution_count": null,
      "outputs": []
    },
    {
      "cell_type": "code",
      "source": [],
      "metadata": {
        "id": "A2XqFrA8Cc5h"
      },
      "execution_count": null,
      "outputs": []
    },
    {
      "cell_type": "code",
      "source": [],
      "metadata": {
        "id": "nI9N9huICc3F"
      },
      "execution_count": null,
      "outputs": []
    },
    {
      "cell_type": "code",
      "source": [],
      "metadata": {
        "id": "YHlgJwNaCc0t"
      },
      "execution_count": null,
      "outputs": []
    },
    {
      "cell_type": "code",
      "source": [],
      "metadata": {
        "id": "u_qN8fOhCcyo"
      },
      "execution_count": null,
      "outputs": []
    },
    {
      "cell_type": "code",
      "source": [],
      "metadata": {
        "id": "mSArU6ZyCcww"
      },
      "execution_count": null,
      "outputs": []
    },
    {
      "cell_type": "code",
      "source": [],
      "metadata": {
        "id": "4uXyd_fTCcua"
      },
      "execution_count": null,
      "outputs": []
    },
    {
      "cell_type": "code",
      "source": [],
      "metadata": {
        "id": "AZWbeUhdCcsJ"
      },
      "execution_count": null,
      "outputs": []
    },
    {
      "cell_type": "code",
      "source": [],
      "metadata": {
        "id": "ALcJgI-FCciq"
      },
      "execution_count": null,
      "outputs": []
    }
  ]
}